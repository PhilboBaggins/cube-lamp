{
 "cells": [
  {
   "cell_type": "code",
   "execution_count": 1,
   "id": "63d6433e-2daf-4607-be07-f4fd0ef87df1",
   "metadata": {},
   "outputs": [],
   "source": [
    "def ledCurrent(voltage, voltageDrop, restance):\n",
    "    return (voltage - voltageDrop) / restance\n",
    "\n",
    "\n",
    "def ledCurrentFriendly(ledColour, voltage, minForwardVoltage, maxForwardVoltage, restance):\n",
    "    minAmps = ledCurrent(voltage, maxForwardVoltage, restance)\n",
    "    maxAmps = ledCurrent(voltage, minForwardVoltage, restance)\n",
    "\n",
    "    minMilliamps = int(round(minAmps * 1000, 0))\n",
    "    maxMilliamps = int(round(maxAmps * 1000, 0))\n",
    "\n",
    "    return 'There will be between {} and {} milliamps through the {} LED'.format(minMilliamps, maxMilliamps, ledColour)\n"
   ]
  },
  {
   "cell_type": "code",
   "execution_count": 2,
   "id": "0093bd9c-4d8d-4d03-aef8-d8291ba1a919",
   "metadata": {},
   "outputs": [
    {
     "name": "stdout",
     "output_type": "stream",
     "text": [
      "There will be between 19 and 22 milliamps through the red LED\n",
      "There will be between 13 and 23 milliamps through the green LED\n",
      "There will be between 16 and 21 milliamps through the blue LED\n"
     ]
    }
   ],
   "source": [
    "print(ledCurrentFriendly('red',   5.0, 1.7, 2.2, 150))\n",
    "print(ledCurrentFriendly('green', 5.0, 2.7, 3.7, 100))\n",
    "print(ledCurrentFriendly('blue',  5.0, 2.5, 3.1, 120))\n"
   ]
  }
 ],
 "metadata": {
  "kernelspec": {
   "display_name": "Python 3 (ipykernel)",
   "language": "python",
   "name": "python3"
  },
  "language_info": {
   "codemirror_mode": {
    "name": "ipython",
    "version": 3
   },
   "file_extension": ".py",
   "mimetype": "text/x-python",
   "name": "python",
   "nbconvert_exporter": "python",
   "pygments_lexer": "ipython3",
   "version": "3.11.3"
  }
 },
 "nbformat": 4,
 "nbformat_minor": 5
}
